{
 "cells": [
  {
   "cell_type": "markdown",
   "metadata": {},
   "source": [
    "### Heroes Of Pymoli Data Analysis\n",
    "* Of the 1163 active players, the vast majority are male (84%). There also exists, a smaller, but notable proportion of female players (14%).\n",
    "\n",
    "* Our peak age demographic falls between 20-24 (44.8%) with secondary groups falling between 15-19 (18.60%) and 25-29 (13.4%).  \n",
    "-----"
   ]
  },
  {
   "cell_type": "markdown",
   "metadata": {},
   "source": [
    "### Note\n",
    "* Instructions have been included for each segment. You do not have to follow them exactly, but they are included to help you think through the steps."
   ]
  },
  {
   "cell_type": "code",
   "execution_count": 2,
   "metadata": {
    "scrolled": true
   },
   "outputs": [
    {
     "data": {
      "text/html": [
       "<div>\n",
       "<style scoped>\n",
       "    .dataframe tbody tr th:only-of-type {\n",
       "        vertical-align: middle;\n",
       "    }\n",
       "\n",
       "    .dataframe tbody tr th {\n",
       "        vertical-align: top;\n",
       "    }\n",
       "\n",
       "    .dataframe thead th {\n",
       "        text-align: right;\n",
       "    }\n",
       "</style>\n",
       "<table border=\"1\" class=\"dataframe\">\n",
       "  <thead>\n",
       "    <tr style=\"text-align: right;\">\n",
       "      <th></th>\n",
       "      <th>Purchase ID</th>\n",
       "      <th>SN</th>\n",
       "      <th>Age</th>\n",
       "      <th>Gender</th>\n",
       "      <th>Item ID</th>\n",
       "      <th>Item Name</th>\n",
       "      <th>Price</th>\n",
       "    </tr>\n",
       "  </thead>\n",
       "  <tbody>\n",
       "    <tr>\n",
       "      <th>0</th>\n",
       "      <td>0</td>\n",
       "      <td>Lisim78</td>\n",
       "      <td>20</td>\n",
       "      <td>Male</td>\n",
       "      <td>108</td>\n",
       "      <td>Extraction, Quickblade Of Trembling Hands</td>\n",
       "      <td>3.53</td>\n",
       "    </tr>\n",
       "    <tr>\n",
       "      <th>1</th>\n",
       "      <td>1</td>\n",
       "      <td>Lisovynya38</td>\n",
       "      <td>40</td>\n",
       "      <td>Male</td>\n",
       "      <td>143</td>\n",
       "      <td>Frenzied Scimitar</td>\n",
       "      <td>1.56</td>\n",
       "    </tr>\n",
       "    <tr>\n",
       "      <th>2</th>\n",
       "      <td>2</td>\n",
       "      <td>Ithergue48</td>\n",
       "      <td>24</td>\n",
       "      <td>Male</td>\n",
       "      <td>92</td>\n",
       "      <td>Final Critic</td>\n",
       "      <td>4.88</td>\n",
       "    </tr>\n",
       "    <tr>\n",
       "      <th>3</th>\n",
       "      <td>3</td>\n",
       "      <td>Chamassasya86</td>\n",
       "      <td>24</td>\n",
       "      <td>Male</td>\n",
       "      <td>100</td>\n",
       "      <td>Blindscythe</td>\n",
       "      <td>3.27</td>\n",
       "    </tr>\n",
       "    <tr>\n",
       "      <th>4</th>\n",
       "      <td>4</td>\n",
       "      <td>Iskosia90</td>\n",
       "      <td>23</td>\n",
       "      <td>Male</td>\n",
       "      <td>131</td>\n",
       "      <td>Fury</td>\n",
       "      <td>1.44</td>\n",
       "    </tr>\n",
       "  </tbody>\n",
       "</table>\n",
       "</div>"
      ],
      "text/plain": [
       "   Purchase ID             SN  Age Gender  Item ID  \\\n",
       "0            0        Lisim78   20   Male      108   \n",
       "1            1    Lisovynya38   40   Male      143   \n",
       "2            2     Ithergue48   24   Male       92   \n",
       "3            3  Chamassasya86   24   Male      100   \n",
       "4            4      Iskosia90   23   Male      131   \n",
       "\n",
       "                                   Item Name  Price  \n",
       "0  Extraction, Quickblade Of Trembling Hands   3.53  \n",
       "1                          Frenzied Scimitar   1.56  \n",
       "2                               Final Critic   4.88  \n",
       "3                                Blindscythe   3.27  \n",
       "4                                       Fury   1.44  "
      ]
     },
     "execution_count": 2,
     "metadata": {},
     "output_type": "execute_result"
    }
   ],
   "source": [
    "# Dependencies and Setup\n",
    "import pandas as pd\n",
    "import numpy as np\n",
    "\n",
    "# File to Load (Remember to Change These)\n",
    "CSV = \"purchase_data.csv\"\n",
    "\n",
    "# Read Purchasing File and store into Pandas data frame\n",
    "purchase_data = pd.read_csv(CSV)\n",
    "purchase_data.head()\n"
   ]
  },
  {
   "cell_type": "markdown",
   "metadata": {},
   "source": [
    "## Player Count"
   ]
  },
  {
   "cell_type": "markdown",
   "metadata": {},
   "source": [
    "* Display the total number of players\n"
   ]
  },
  {
   "cell_type": "code",
   "execution_count": 3,
   "metadata": {},
   "outputs": [
    {
     "data": {
      "text/html": [
       "<div>\n",
       "<style scoped>\n",
       "    .dataframe tbody tr th:only-of-type {\n",
       "        vertical-align: middle;\n",
       "    }\n",
       "\n",
       "    .dataframe tbody tr th {\n",
       "        vertical-align: top;\n",
       "    }\n",
       "\n",
       "    .dataframe thead th {\n",
       "        text-align: right;\n",
       "    }\n",
       "</style>\n",
       "<table border=\"1\" class=\"dataframe\">\n",
       "  <thead>\n",
       "    <tr style=\"text-align: right;\">\n",
       "      <th></th>\n",
       "      <th>Total Players</th>\n",
       "    </tr>\n",
       "  </thead>\n",
       "  <tbody>\n",
       "    <tr>\n",
       "      <th>0</th>\n",
       "      <td>576</td>\n",
       "    </tr>\n",
       "  </tbody>\n",
       "</table>\n",
       "</div>"
      ],
      "text/plain": [
       "   Total Players\n",
       "0            576"
      ]
     },
     "execution_count": 3,
     "metadata": {},
     "output_type": "execute_result"
    }
   ],
   "source": [
    "Total_Count = purchase_data.groupby(['SN']).sum()\n",
    "player_count = pd.DataFrame({\"Total Players\":[len(Total_Count)]})\n",
    "player_count\n",
    "\n"
   ]
  },
  {
   "cell_type": "markdown",
   "metadata": {},
   "source": [
    "## Purchasing Analysis (Total)"
   ]
  },
  {
   "cell_type": "markdown",
   "metadata": {},
   "source": [
    "* Run basic calculations to obtain number of unique items, average price, etc.\n",
    "\n",
    "\n",
    "* Create a summary data frame to hold the results\n",
    "\n",
    "\n",
    "* Optional: give the displayed data cleaner formatting\n",
    "\n",
    "\n",
    "* Display the summary data frame\n"
   ]
  },
  {
   "cell_type": "code",
   "execution_count": 4,
   "metadata": {
    "scrolled": true
   },
   "outputs": [
    {
     "data": {
      "text/html": [
       "<div>\n",
       "<style scoped>\n",
       "    .dataframe tbody tr th:only-of-type {\n",
       "        vertical-align: middle;\n",
       "    }\n",
       "\n",
       "    .dataframe tbody tr th {\n",
       "        vertical-align: top;\n",
       "    }\n",
       "\n",
       "    .dataframe thead th {\n",
       "        text-align: right;\n",
       "    }\n",
       "</style>\n",
       "<table border=\"1\" class=\"dataframe\">\n",
       "  <thead>\n",
       "    <tr style=\"text-align: right;\">\n",
       "      <th></th>\n",
       "      <th>Number of Unique Items</th>\n",
       "      <th>Average Price</th>\n",
       "      <th>Number of Purchases</th>\n",
       "      <th>Total Revenue</th>\n",
       "    </tr>\n",
       "  </thead>\n",
       "  <tbody>\n",
       "    <tr>\n",
       "      <th>0</th>\n",
       "      <td>183</td>\n",
       "      <td>$3.05</td>\n",
       "      <td>780</td>\n",
       "      <td>$2,379.77</td>\n",
       "    </tr>\n",
       "  </tbody>\n",
       "</table>\n",
       "</div>"
      ],
      "text/plain": [
       "   Number of Unique Items Average Price  Number of Purchases Total Revenue\n",
       "0                     183         $3.05                  780     $2,379.77"
      ]
     },
     "execution_count": 4,
     "metadata": {},
     "output_type": "execute_result"
    }
   ],
   "source": [
    "Unique_Items = (purchase_data['Item ID']).nunique()\n",
    "Average_Price = round(purchase_data['Price'].mean(),2)\n",
    "Number_of_Purchases = purchase_data['Item ID'].count()\n",
    "Total_Revenue = purchase_data['Price'].sum()\n",
    "\n",
    "\n",
    "Total = {\"Number of Unique Items\":[Unique_Items],\n",
    "         \"Average Price\":[Average_Price],\n",
    "         \"Number of Purchases\":[Number_of_Purchases],\n",
    "         \"Total Revenue\": [Total_Revenue]}\n",
    "New_df= pd.DataFrame(data=Total)\n",
    "New_df[\"Average Price\"] = New_df[\"Average Price\"].map(\"${:,.2f}\".format)\n",
    "New_df[\"Total Revenue\"] = New_df[\"Total Revenue\"].map(\"${:,.2f}\".format)\n",
    "New_df\n",
    "\n"
   ]
  },
  {
   "cell_type": "markdown",
   "metadata": {},
   "source": [
    "## Gender Demographics"
   ]
  },
  {
   "cell_type": "markdown",
   "metadata": {},
   "source": [
    "* Percentage and Count of Male Players\n",
    "\n",
    "\n",
    "* Percentage and Count of Female Players\n",
    "\n",
    "\n",
    "* Percentage and Count of Other / Non-Disclosed\n",
    "\n",
    "\n"
   ]
  },
  {
   "cell_type": "code",
   "execution_count": 5,
   "metadata": {
    "scrolled": true
   },
   "outputs": [
    {
     "data": {
      "text/html": [
       "<div>\n",
       "<style scoped>\n",
       "    .dataframe tbody tr th:only-of-type {\n",
       "        vertical-align: middle;\n",
       "    }\n",
       "\n",
       "    .dataframe tbody tr th {\n",
       "        vertical-align: top;\n",
       "    }\n",
       "\n",
       "    .dataframe thead th {\n",
       "        text-align: right;\n",
       "    }\n",
       "</style>\n",
       "<table border=\"1\" class=\"dataframe\">\n",
       "  <thead>\n",
       "    <tr style=\"text-align: right;\">\n",
       "      <th></th>\n",
       "      <th>Total Count</th>\n",
       "      <th>Percentage of Players</th>\n",
       "    </tr>\n",
       "  </thead>\n",
       "  <tbody>\n",
       "    <tr>\n",
       "      <th>Male</th>\n",
       "      <td>484</td>\n",
       "      <td>84.03</td>\n",
       "    </tr>\n",
       "    <tr>\n",
       "      <th>Female</th>\n",
       "      <td>81</td>\n",
       "      <td>14.06</td>\n",
       "    </tr>\n",
       "    <tr>\n",
       "      <th>Other/Non-Disclosed</th>\n",
       "      <td>11</td>\n",
       "      <td>1.91</td>\n",
       "    </tr>\n",
       "  </tbody>\n",
       "</table>\n",
       "</div>"
      ],
      "text/plain": [
       "                     Total Count Percentage of Players\n",
       "Male                         484                 84.03\n",
       "Female                        81                 14.06\n",
       "Other/Non-Disclosed           11                  1.91"
      ]
     },
     "execution_count": 5,
     "metadata": {},
     "output_type": "execute_result"
    }
   ],
   "source": [
    "Everyone = purchase_data[\"SN\"].nunique()\n",
    "Total_Male = purchase_data[purchase_data[\"Gender\"] == \"Male\"][\"SN\"].nunique()\n",
    "Total_Female = purchase_data[purchase_data[\"Gender\"] == \"Female\"][\"SN\"].nunique()\n",
    "Total_Other = purchase_data[purchase_data[\"Gender\"] == \"Other / Non-Disclosed\"][\"SN\"].nunique()\n",
    "\n",
    "Percent1 = (Total_Male/Everyone)*100\n",
    "Percent2 = (Total_Female/Everyone)*100\n",
    "Percent3 = (Total_Other/Everyone)*100\n",
    "\n",
    "Gender_Count = {\"Total Count\":[Total_Male, Total_Female, Total_Other], \n",
    "        \"Percentage of Players\":[Percent1, Percent2, Percent3]} \n",
    "\n",
    "\n",
    "Gender_Demographics = pd.DataFrame(Gender_Count, index =[\"Male\", \"Female\", \"Other/Non-Disclosed\"]) \n",
    "Gender_Demographics[\"Percentage of Players\"] = Gender_Demographics[\"Percentage of Players\"].map(\"{:,.2f}\".format)\n",
    "Gender_Demographics"
   ]
  },
  {
   "cell_type": "markdown",
   "metadata": {},
   "source": [
    "\n",
    "## Purchasing Analysis (Gender)"
   ]
  },
  {
   "cell_type": "markdown",
   "metadata": {},
   "source": [
    "* Run basic calculations to obtain purchase count, avg. purchase price, avg. purchase total per person etc. by gender\n",
    "\n",
    "\n",
    "\n",
    "\n",
    "* Create a summary data frame to hold the results\n",
    "\n",
    "\n",
    "* Optional: give the displayed data cleaner formatting\n",
    "\n",
    "\n",
    "* Display the summary data frame"
   ]
  },
  {
   "cell_type": "code",
   "execution_count": 6,
   "metadata": {
    "scrolled": true
   },
   "outputs": [
    {
     "data": {
      "text/html": [
       "<div>\n",
       "<style scoped>\n",
       "    .dataframe tbody tr th:only-of-type {\n",
       "        vertical-align: middle;\n",
       "    }\n",
       "\n",
       "    .dataframe tbody tr th {\n",
       "        vertical-align: top;\n",
       "    }\n",
       "\n",
       "    .dataframe thead th {\n",
       "        text-align: right;\n",
       "    }\n",
       "</style>\n",
       "<table border=\"1\" class=\"dataframe\">\n",
       "  <thead>\n",
       "    <tr style=\"text-align: right;\">\n",
       "      <th></th>\n",
       "      <th>Purchase Count</th>\n",
       "      <th>Average Purchase Price</th>\n",
       "      <th>Total Purchase Value</th>\n",
       "      <th>Avg Total Purchase per Person</th>\n",
       "    </tr>\n",
       "  </thead>\n",
       "  <tbody>\n",
       "    <tr>\n",
       "      <th>Female</th>\n",
       "      <td>361.94</td>\n",
       "      <td>$3.20</td>\n",
       "      <td>$361.94</td>\n",
       "      <td>$4.47</td>\n",
       "    </tr>\n",
       "    <tr>\n",
       "      <th>male</th>\n",
       "      <td>1967.64</td>\n",
       "      <td>$3.02</td>\n",
       "      <td>$1,967.64</td>\n",
       "      <td>$4.07</td>\n",
       "    </tr>\n",
       "    <tr>\n",
       "      <th>Other/Non-Disclosed</th>\n",
       "      <td>15.00</td>\n",
       "      <td>$3.35</td>\n",
       "      <td>$50.19</td>\n",
       "      <td>$4.56</td>\n",
       "    </tr>\n",
       "  </tbody>\n",
       "</table>\n",
       "</div>"
      ],
      "text/plain": [
       "                     Purchase Count Average Purchase Price  \\\n",
       "Female                       361.94                  $3.20   \n",
       "male                        1967.64                  $3.02   \n",
       "Other/Non-Disclosed           15.00                  $3.35   \n",
       "\n",
       "                    Total Purchase Value Avg Total Purchase per Person  \n",
       "Female                           $361.94                         $4.47  \n",
       "male                           $1,967.64                         $4.07  \n",
       "Other/Non-Disclosed               $50.19                         $4.56  "
      ]
     },
     "execution_count": 6,
     "metadata": {},
     "output_type": "execute_result"
    }
   ],
   "source": [
    "F_Purchase_Count = purchase_data[purchase_data[\"Gender\"] == \"Female\"][\"Price\"].sum()\n",
    "M_Purchase_Count = purchase_data[purchase_data[\"Gender\"] == \"Male\"][\"Price\"].sum()\n",
    "O_Purchase_Count = purchase_data[purchase_data[\"Gender\"] == \"Other / Non-Disclosed\"][\"Price\"].count()\n",
    "\n",
    "F_Avg_Price=purchase_data[purchase_data[\"Gender\"] == \"Female\"][\"Price\"].mean()\n",
    "M_Avg_Price= purchase_data[purchase_data[\"Gender\"] == \"Male\"][\"Price\"].mean()\n",
    "O_Avg_Price= purchase_data[purchase_data[\"Gender\"] == \"Other / Non-Disclosed\"][\"Price\"].mean()\n",
    "\n",
    "F_Total_Purchase_Price = purchase_data[purchase_data[\"Gender\"] == \"Female\"][\"Price\"].sum()\n",
    "M_Total_Purchase_Price = purchase_data[purchase_data[\"Gender\"] == \"Male\"][\"Price\"].sum()\n",
    "O_Total_Purchase_Price = purchase_data[purchase_data[\"Gender\"] == \"Other / Non-Disclosed\"][\"Price\"].sum()\n",
    "\n",
    "F_Avg_Total_PPP = (F_Total_Purchase_Price/Total_Female)\n",
    "M_Avg_Total_PPP = (M_Total_Purchase_Price/Total_Male)\n",
    "O_Avg_Total_PPP = (O_Total_Purchase_Price/Total_Other)\n",
    "\n",
    "\n",
    "data = {\"Purchase Count\":[F_Purchase_Count, M_Purchase_Count, O_Purchase_Count], \n",
    "        \"Average Purchase Price\":[F_Avg_Price, M_Avg_Price, O_Avg_Price], \n",
    "        \"Total Purchase Value\":[F_Total_Purchase_Price, M_Total_Purchase_Price, O_Total_Purchase_Price], \n",
    "        \"Avg Total Purchase per Person\":[F_Avg_Total_PPP, M_Avg_Total_PPP, O_Avg_Total_PPP]}\n",
    "\n",
    "Purchasing_Analysis = pd.DataFrame(data, index =[\"Female\", \"male\", \"Other/Non-Disclosed\"]) \n",
    "Purchasing_Analysis[\"Total Purchase Value\"] = Purchasing_Analysis[\"Total Purchase Value\"].map(\"${:,.2f}\".format)\n",
    "Purchasing_Analysis[\"Average Purchase Price\"] = Purchasing_Analysis[\"Average Purchase Price\"].map(\"${:,.2f}\".format)\n",
    "Purchasing_Analysis[\"Avg Total Purchase per Person\"] = Purchasing_Analysis[\"Avg Total Purchase per Person\"].map(\"${:,.2f}\".format)\n",
    "Purchasing_Analysis\n"
   ]
  },
  {
   "cell_type": "markdown",
   "metadata": {},
   "source": [
    "## Age Demographics"
   ]
  },
  {
   "cell_type": "markdown",
   "metadata": {},
   "source": [
    "* Establish bins for ages\n",
    "\n",
    "\n",
    "* Categorize the existing players using the age bins. Hint: use pd.cut()\n",
    "\n",
    "\n",
    "* Calculate the numbers and percentages by age group\n",
    "\n",
    "\n",
    "* Create a summary data frame to hold the results\n",
    "\n",
    "\n",
    "* Optional: round the percentage column to two decimal points\n",
    "\n",
    "\n",
    "* Display Age Demographics Table\n"
   ]
  },
  {
   "cell_type": "code",
   "execution_count": 6,
   "metadata": {},
   "outputs": [
    {
     "data": {
      "text/html": [
       "<style  type=\"text/css\" >\n",
       "</style><table id=\"T_5b99c68c_9b9a_11e9_b05d_48a472fb4d10\" ><thead>    <tr>        <th class=\"blank level0\" ></th>        <th class=\"col_heading level0 col0\" >Percentage of Players</th>        <th class=\"col_heading level0 col1\" >Total Count</th>    </tr></thead><tbody>\n",
       "                <tr>\n",
       "                        <th id=\"T_5b99c68c_9b9a_11e9_b05d_48a472fb4d10level0_row0\" class=\"row_heading level0 row0\" ><10</th>\n",
       "                        <td id=\"T_5b99c68c_9b9a_11e9_b05d_48a472fb4d10row0_col0\" class=\"data row0 col0\" >2.95</td>\n",
       "                        <td id=\"T_5b99c68c_9b9a_11e9_b05d_48a472fb4d10row0_col1\" class=\"data row0 col1\" >17</td>\n",
       "            </tr>\n",
       "            <tr>\n",
       "                        <th id=\"T_5b99c68c_9b9a_11e9_b05d_48a472fb4d10level0_row1\" class=\"row_heading level0 row1\" >10-14</th>\n",
       "                        <td id=\"T_5b99c68c_9b9a_11e9_b05d_48a472fb4d10row1_col0\" class=\"data row1 col0\" >3.82</td>\n",
       "                        <td id=\"T_5b99c68c_9b9a_11e9_b05d_48a472fb4d10row1_col1\" class=\"data row1 col1\" >22</td>\n",
       "            </tr>\n",
       "            <tr>\n",
       "                        <th id=\"T_5b99c68c_9b9a_11e9_b05d_48a472fb4d10level0_row2\" class=\"row_heading level0 row2\" >15-19</th>\n",
       "                        <td id=\"T_5b99c68c_9b9a_11e9_b05d_48a472fb4d10row2_col0\" class=\"data row2 col0\" >18.58</td>\n",
       "                        <td id=\"T_5b99c68c_9b9a_11e9_b05d_48a472fb4d10row2_col1\" class=\"data row2 col1\" >107</td>\n",
       "            </tr>\n",
       "            <tr>\n",
       "                        <th id=\"T_5b99c68c_9b9a_11e9_b05d_48a472fb4d10level0_row3\" class=\"row_heading level0 row3\" >20-24</th>\n",
       "                        <td id=\"T_5b99c68c_9b9a_11e9_b05d_48a472fb4d10row3_col0\" class=\"data row3 col0\" >44.79</td>\n",
       "                        <td id=\"T_5b99c68c_9b9a_11e9_b05d_48a472fb4d10row3_col1\" class=\"data row3 col1\" >258</td>\n",
       "            </tr>\n",
       "            <tr>\n",
       "                        <th id=\"T_5b99c68c_9b9a_11e9_b05d_48a472fb4d10level0_row4\" class=\"row_heading level0 row4\" >25-29</th>\n",
       "                        <td id=\"T_5b99c68c_9b9a_11e9_b05d_48a472fb4d10row4_col0\" class=\"data row4 col0\" >13.37</td>\n",
       "                        <td id=\"T_5b99c68c_9b9a_11e9_b05d_48a472fb4d10row4_col1\" class=\"data row4 col1\" >77</td>\n",
       "            </tr>\n",
       "            <tr>\n",
       "                        <th id=\"T_5b99c68c_9b9a_11e9_b05d_48a472fb4d10level0_row5\" class=\"row_heading level0 row5\" >30-34</th>\n",
       "                        <td id=\"T_5b99c68c_9b9a_11e9_b05d_48a472fb4d10row5_col0\" class=\"data row5 col0\" >9.03</td>\n",
       "                        <td id=\"T_5b99c68c_9b9a_11e9_b05d_48a472fb4d10row5_col1\" class=\"data row5 col1\" >52</td>\n",
       "            </tr>\n",
       "            <tr>\n",
       "                        <th id=\"T_5b99c68c_9b9a_11e9_b05d_48a472fb4d10level0_row6\" class=\"row_heading level0 row6\" >35-39</th>\n",
       "                        <td id=\"T_5b99c68c_9b9a_11e9_b05d_48a472fb4d10row6_col0\" class=\"data row6 col0\" >5.38</td>\n",
       "                        <td id=\"T_5b99c68c_9b9a_11e9_b05d_48a472fb4d10row6_col1\" class=\"data row6 col1\" >31</td>\n",
       "            </tr>\n",
       "            <tr>\n",
       "                        <th id=\"T_5b99c68c_9b9a_11e9_b05d_48a472fb4d10level0_row7\" class=\"row_heading level0 row7\" >40+</th>\n",
       "                        <td id=\"T_5b99c68c_9b9a_11e9_b05d_48a472fb4d10row7_col0\" class=\"data row7 col0\" >2.08</td>\n",
       "                        <td id=\"T_5b99c68c_9b9a_11e9_b05d_48a472fb4d10row7_col1\" class=\"data row7 col1\" >12</td>\n",
       "            </tr>\n",
       "    </tbody></table>"
      ],
      "text/plain": [
       "<pandas.io.formats.style.Styler at 0x153a724fc18>"
      ]
     },
     "execution_count": 6,
     "metadata": {},
     "output_type": "execute_result"
    }
   ],
   "source": [
    "bins =      [0, 9, 14, 19, 24, 29, 34, 39, 200]\n",
    "bin_title = [\"<10\", \"10-14\", \"15-19\", \"20-24\", \"25-29\", \"30-34\", \"35-39\", \"40+\"]\n",
    "\n",
    "purchase_data[\"Bin_Group\"] = pd.cut(purchase_data[\"Age\"], bins, labels=bin_title)\n",
    "purchase_data\n",
    "\n",
    "age_grouped = purchase_data.groupby(\"Bin_Group\")\n",
    "total_players = len(purchase_data[\"SN\"].value_counts())\n",
    "total_count_age = age_grouped[\"SN\"].nunique()\n",
    "percentage_by_age = (total_count_age/total_players) * 100\n",
    "age_demographics = pd.DataFrame({\"Percentage of Players\": percentage_by_age, \"Total Count\": total_count_age})\n",
    "age_demographics.index.name = None\n",
    "age_demographics.style.format({\"Percentage of Players\":\"{:,.2f}\"})\n",
    "\n",
    "##^^^^^^^^^^Everything Above Works as intended^^^^^^^^^^###\n",
    "\n",
    "\n",
    "\n",
    "\n",
    "\n"
   ]
  },
  {
   "cell_type": "markdown",
   "metadata": {},
   "source": [
    "## Purchasing Analysis (Age)"
   ]
  },
  {
   "cell_type": "markdown",
   "metadata": {},
   "source": [
    "* Bin the purchase_data data frame by age\n",
    "\n",
    "\n",
    "* Run basic calculations to obtain purchase count, avg. purchase price, avg. purchase total per person etc. in the table below\n",
    "\n",
    "\n",
    "* Create a summary data frame to hold the results\n",
    "\n",
    "\n",
    "* Optional: give the displayed data cleaner formatting\n",
    "\n",
    "\n",
    "* Display the summary data frame"
   ]
  },
  {
   "cell_type": "code",
   "execution_count": 7,
   "metadata": {},
   "outputs": [
    {
     "data": {
      "text/html": [
       "<style  type=\"text/css\" >\n",
       "</style><table id=\"T_5ba412f6_9b9a_11e9_a1e8_48a472fb4d10\" ><thead>    <tr>        <th class=\"blank level0\" ></th>        <th class=\"col_heading level0 col0\" >Purchase Count</th>        <th class=\"col_heading level0 col1\" >Average Purchase Price</th>        <th class=\"col_heading level0 col2\" >Total Purchase Value</th>    </tr>    <tr>        <th class=\"index_name level0\" >Bin_Group</th>        <th class=\"blank\" ></th>        <th class=\"blank\" ></th>        <th class=\"blank\" ></th>    </tr></thead><tbody>\n",
       "                <tr>\n",
       "                        <th id=\"T_5ba412f6_9b9a_11e9_a1e8_48a472fb4d10level0_row0\" class=\"row_heading level0 row0\" >20-24</th>\n",
       "                        <td id=\"T_5ba412f6_9b9a_11e9_a1e8_48a472fb4d10row0_col0\" class=\"data row0 col0\" >365</td>\n",
       "                        <td id=\"T_5ba412f6_9b9a_11e9_a1e8_48a472fb4d10row0_col1\" class=\"data row0 col1\" >$3.05</td>\n",
       "                        <td id=\"T_5ba412f6_9b9a_11e9_a1e8_48a472fb4d10row0_col2\" class=\"data row0 col2\" >$1,114.06</td>\n",
       "            </tr>\n",
       "            <tr>\n",
       "                        <th id=\"T_5ba412f6_9b9a_11e9_a1e8_48a472fb4d10level0_row1\" class=\"row_heading level0 row1\" >15-19</th>\n",
       "                        <td id=\"T_5ba412f6_9b9a_11e9_a1e8_48a472fb4d10row1_col0\" class=\"data row1 col0\" >136</td>\n",
       "                        <td id=\"T_5ba412f6_9b9a_11e9_a1e8_48a472fb4d10row1_col1\" class=\"data row1 col1\" >$3.04</td>\n",
       "                        <td id=\"T_5ba412f6_9b9a_11e9_a1e8_48a472fb4d10row1_col2\" class=\"data row1 col2\" >$412.89</td>\n",
       "            </tr>\n",
       "            <tr>\n",
       "                        <th id=\"T_5ba412f6_9b9a_11e9_a1e8_48a472fb4d10level0_row2\" class=\"row_heading level0 row2\" >25-29</th>\n",
       "                        <td id=\"T_5ba412f6_9b9a_11e9_a1e8_48a472fb4d10row2_col0\" class=\"data row2 col0\" >101</td>\n",
       "                        <td id=\"T_5ba412f6_9b9a_11e9_a1e8_48a472fb4d10row2_col1\" class=\"data row2 col1\" >$2.90</td>\n",
       "                        <td id=\"T_5ba412f6_9b9a_11e9_a1e8_48a472fb4d10row2_col2\" class=\"data row2 col2\" >$293.00</td>\n",
       "            </tr>\n",
       "            <tr>\n",
       "                        <th id=\"T_5ba412f6_9b9a_11e9_a1e8_48a472fb4d10level0_row3\" class=\"row_heading level0 row3\" >30-34</th>\n",
       "                        <td id=\"T_5ba412f6_9b9a_11e9_a1e8_48a472fb4d10row3_col0\" class=\"data row3 col0\" >73</td>\n",
       "                        <td id=\"T_5ba412f6_9b9a_11e9_a1e8_48a472fb4d10row3_col1\" class=\"data row3 col1\" >$2.93</td>\n",
       "                        <td id=\"T_5ba412f6_9b9a_11e9_a1e8_48a472fb4d10row3_col2\" class=\"data row3 col2\" >$214.00</td>\n",
       "            </tr>\n",
       "            <tr>\n",
       "                        <th id=\"T_5ba412f6_9b9a_11e9_a1e8_48a472fb4d10level0_row4\" class=\"row_heading level0 row4\" >35-39</th>\n",
       "                        <td id=\"T_5ba412f6_9b9a_11e9_a1e8_48a472fb4d10row4_col0\" class=\"data row4 col0\" >41</td>\n",
       "                        <td id=\"T_5ba412f6_9b9a_11e9_a1e8_48a472fb4d10row4_col1\" class=\"data row4 col1\" >$3.60</td>\n",
       "                        <td id=\"T_5ba412f6_9b9a_11e9_a1e8_48a472fb4d10row4_col2\" class=\"data row4 col2\" >$147.67</td>\n",
       "            </tr>\n",
       "    </tbody></table>"
      ],
      "text/plain": [
       "<pandas.io.formats.style.Styler at 0x153a7278ba8>"
      ]
     },
     "execution_count": 7,
     "metadata": {},
     "output_type": "execute_result"
    }
   ],
   "source": [
    "spender_stats = purchase_data.groupby(\"Bin_Group\")\n",
    "purchase_count_spender = spender_stats[\"Purchase ID\"].count() \n",
    "avg_purchase_price_spender = spender_stats[\"Price\"].mean()\n",
    "purchase_total_spender = spender_stats[\"Price\"].sum()\n",
    "\n",
    "\n",
    "top_spenders = pd.DataFrame({\"Purchase Count\": purchase_count_spender,\n",
    "                             \"Average Purchase Price\": avg_purchase_price_spender,\n",
    "                             \"Total Purchase Value\":purchase_total_spender})\n",
    "\n",
    "\n",
    "formatted_spenders = top_spenders.sort_values([\"Total Purchase Value\"], ascending=False).head()\n",
    "\n",
    "# Formating\n",
    "formatted_spenders.style.format({\"Average Purchase Total\":\"${:,.2f}\",\n",
    "                                 \"Average Purchase Price\":\"${:,.2f}\", \n",
    "                                 \"Total Purchase Value\":\"${:,.2f}\"})"
   ]
  },
  {
   "cell_type": "markdown",
   "metadata": {},
   "source": [
    "## Top Spenders"
   ]
  },
  {
   "cell_type": "markdown",
   "metadata": {},
   "source": [
    "* Run basic calculations to obtain the results in the table below\n",
    "\n",
    "\n",
    "* Create a summary data frame to hold the results\n",
    "\n",
    "\n",
    "* Sort the total purchase value column in descending order\n",
    "\n",
    "\n",
    "* Optional: give the displayed data cleaner formatting\n",
    "\n",
    "\n",
    "* Display a preview of the summary data frame\n",
    "\n"
   ]
  },
  {
   "cell_type": "code",
   "execution_count": 8,
   "metadata": {},
   "outputs": [
    {
     "data": {
      "text/html": [
       "<style  type=\"text/css\" >\n",
       "</style><table id=\"T_5c2c2210_9b9a_11e9_bf12_48a472fb4d10\" ><thead>    <tr>        <th class=\"blank\" ></th>        <th class=\"blank level0\" ></th>        <th class=\"col_heading level0 col0\" >Purchase Count</th>        <th class=\"col_heading level0 col1\" >Item Price</th>        <th class=\"col_heading level0 col2\" >Total Purchase Value</th>    </tr>    <tr>        <th class=\"index_name level0\" >Item ID</th>        <th class=\"index_name level1\" >Item Name</th>        <th class=\"blank\" ></th>        <th class=\"blank\" ></th>        <th class=\"blank\" ></th>    </tr></thead><tbody>\n",
       "                <tr>\n",
       "                        <th id=\"T_5c2c2210_9b9a_11e9_bf12_48a472fb4d10level0_row0\" class=\"row_heading level0 row0\" >178</th>\n",
       "                        <th id=\"T_5c2c2210_9b9a_11e9_bf12_48a472fb4d10level1_row0\" class=\"row_heading level1 row0\" >Oathbreaker, Last Hope of the Breaking Storm</th>\n",
       "                        <td id=\"T_5c2c2210_9b9a_11e9_bf12_48a472fb4d10row0_col0\" class=\"data row0 col0\" >12</td>\n",
       "                        <td id=\"T_5c2c2210_9b9a_11e9_bf12_48a472fb4d10row0_col1\" class=\"data row0 col1\" >$4.23</td>\n",
       "                        <td id=\"T_5c2c2210_9b9a_11e9_bf12_48a472fb4d10row0_col2\" class=\"data row0 col2\" >$50.76</td>\n",
       "            </tr>\n",
       "            <tr>\n",
       "                        <th id=\"T_5c2c2210_9b9a_11e9_bf12_48a472fb4d10level0_row1\" class=\"row_heading level0 row1\" >145</th>\n",
       "                        <th id=\"T_5c2c2210_9b9a_11e9_bf12_48a472fb4d10level1_row1\" class=\"row_heading level1 row1\" >Fiery Glass Crusader</th>\n",
       "                        <td id=\"T_5c2c2210_9b9a_11e9_bf12_48a472fb4d10row1_col0\" class=\"data row1 col0\" >9</td>\n",
       "                        <td id=\"T_5c2c2210_9b9a_11e9_bf12_48a472fb4d10row1_col1\" class=\"data row1 col1\" >$4.58</td>\n",
       "                        <td id=\"T_5c2c2210_9b9a_11e9_bf12_48a472fb4d10row1_col2\" class=\"data row1 col2\" >$41.22</td>\n",
       "            </tr>\n",
       "            <tr>\n",
       "                        <th id=\"T_5c2c2210_9b9a_11e9_bf12_48a472fb4d10level0_row2\" class=\"row_heading level0 row2\" >108</th>\n",
       "                        <th id=\"T_5c2c2210_9b9a_11e9_bf12_48a472fb4d10level1_row2\" class=\"row_heading level1 row2\" >Extraction, Quickblade Of Trembling Hands</th>\n",
       "                        <td id=\"T_5c2c2210_9b9a_11e9_bf12_48a472fb4d10row2_col0\" class=\"data row2 col0\" >9</td>\n",
       "                        <td id=\"T_5c2c2210_9b9a_11e9_bf12_48a472fb4d10row2_col1\" class=\"data row2 col1\" >$3.53</td>\n",
       "                        <td id=\"T_5c2c2210_9b9a_11e9_bf12_48a472fb4d10row2_col2\" class=\"data row2 col2\" >$31.77</td>\n",
       "            </tr>\n",
       "            <tr>\n",
       "                        <th id=\"T_5c2c2210_9b9a_11e9_bf12_48a472fb4d10level0_row3\" class=\"row_heading level0 row3\" >82</th>\n",
       "                        <th id=\"T_5c2c2210_9b9a_11e9_bf12_48a472fb4d10level1_row3\" class=\"row_heading level1 row3\" >Nirvana</th>\n",
       "                        <td id=\"T_5c2c2210_9b9a_11e9_bf12_48a472fb4d10row3_col0\" class=\"data row3 col0\" >9</td>\n",
       "                        <td id=\"T_5c2c2210_9b9a_11e9_bf12_48a472fb4d10row3_col1\" class=\"data row3 col1\" >$4.90</td>\n",
       "                        <td id=\"T_5c2c2210_9b9a_11e9_bf12_48a472fb4d10row3_col2\" class=\"data row3 col2\" >$44.10</td>\n",
       "            </tr>\n",
       "            <tr>\n",
       "                        <th id=\"T_5c2c2210_9b9a_11e9_bf12_48a472fb4d10level0_row4\" class=\"row_heading level0 row4\" >19</th>\n",
       "                        <th id=\"T_5c2c2210_9b9a_11e9_bf12_48a472fb4d10level1_row4\" class=\"row_heading level1 row4\" >Pursuit, Cudgel of Necromancy</th>\n",
       "                        <td id=\"T_5c2c2210_9b9a_11e9_bf12_48a472fb4d10row4_col0\" class=\"data row4 col0\" >8</td>\n",
       "                        <td id=\"T_5c2c2210_9b9a_11e9_bf12_48a472fb4d10row4_col1\" class=\"data row4 col1\" >$1.02</td>\n",
       "                        <td id=\"T_5c2c2210_9b9a_11e9_bf12_48a472fb4d10row4_col2\" class=\"data row4 col2\" >$8.16</td>\n",
       "            </tr>\n",
       "    </tbody></table>"
      ],
      "text/plain": [
       "<pandas.io.formats.style.Styler at 0x153a7fa2898>"
      ]
     },
     "execution_count": 8,
     "metadata": {},
     "output_type": "execute_result"
    }
   ],
   "source": [
    " \n",
    "items = purchase_data[[\"Item ID\", \"Item Name\", \"Price\"]] \n",
    "item_stats = items.groupby([\"Item ID\",\"Item Name\"])\n",
    "purchase_count_item = item_stats[\"Price\"].count() \n",
    "purchase_value = (item_stats[\"Price\"].sum()) \n",
    "item_price = purchase_value/purchase_count_item\n",
    "\n",
    "\n",
    "most_popular_items = pd.DataFrame({\"Purchase Count\": purchase_count_item, \n",
    "                                   \"Item Price\": item_price,\n",
    "                                   \"Total Purchase Value\":purchase_value})\n",
    "popular_formatted = most_popular_items.sort_values([\"Purchase Count\"], ascending=False).head()\n",
    "\n",
    "\n",
    "popular_formatted.style.format({\"Item Price\":\"${:,.2f}\",\n",
    "                                \"Total Purchase Value\":\"${:,.2f}\"})"
   ]
  },
  {
   "cell_type": "markdown",
   "metadata": {},
   "source": [
    "## Most Popular Items"
   ]
  },
  {
   "cell_type": "markdown",
   "metadata": {},
   "source": [
    "* Retrieve the Item ID, Item Name, and Item Price columns\n",
    "\n",
    "\n",
    "* Group by Item ID and Item Name. Perform calculations to obtain purchase count, item price, and total purchase value\n",
    "\n",
    "\n",
    "* Create a summary data frame to hold the results\n",
    "\n",
    "\n",
    "* Sort the purchase count column in descending order\n",
    "\n",
    "\n",
    "* Optional: give the displayed data cleaner formatting\n",
    "\n",
    "\n",
    "* Display a preview of the summary data frame\n",
    "\n"
   ]
  },
  {
   "cell_type": "code",
   "execution_count": 9,
   "metadata": {},
   "outputs": [
    {
     "data": {
      "text/html": [
       "<style  type=\"text/css\" >\n",
       "</style><table id=\"T_5cf34008_9b9a_11e9_8e62_48a472fb4d10\" ><thead>    <tr>        <th class=\"blank\" ></th>        <th class=\"blank level0\" ></th>        <th class=\"col_heading level0 col0\" >Purchase Count</th>        <th class=\"col_heading level0 col1\" >Item Price</th>        <th class=\"col_heading level0 col2\" >Total Purchase Value</th>    </tr>    <tr>        <th class=\"index_name level0\" >Item ID</th>        <th class=\"index_name level1\" >Item Name</th>        <th class=\"blank\" ></th>        <th class=\"blank\" ></th>        <th class=\"blank\" ></th>    </tr></thead><tbody>\n",
       "                <tr>\n",
       "                        <th id=\"T_5cf34008_9b9a_11e9_8e62_48a472fb4d10level0_row0\" class=\"row_heading level0 row0\" >178</th>\n",
       "                        <th id=\"T_5cf34008_9b9a_11e9_8e62_48a472fb4d10level1_row0\" class=\"row_heading level1 row0\" >Oathbreaker, Last Hope of the Breaking Storm</th>\n",
       "                        <td id=\"T_5cf34008_9b9a_11e9_8e62_48a472fb4d10row0_col0\" class=\"data row0 col0\" >12</td>\n",
       "                        <td id=\"T_5cf34008_9b9a_11e9_8e62_48a472fb4d10row0_col1\" class=\"data row0 col1\" >$4.23</td>\n",
       "                        <td id=\"T_5cf34008_9b9a_11e9_8e62_48a472fb4d10row0_col2\" class=\"data row0 col2\" >$50.76</td>\n",
       "            </tr>\n",
       "            <tr>\n",
       "                        <th id=\"T_5cf34008_9b9a_11e9_8e62_48a472fb4d10level0_row1\" class=\"row_heading level0 row1\" >82</th>\n",
       "                        <th id=\"T_5cf34008_9b9a_11e9_8e62_48a472fb4d10level1_row1\" class=\"row_heading level1 row1\" >Nirvana</th>\n",
       "                        <td id=\"T_5cf34008_9b9a_11e9_8e62_48a472fb4d10row1_col0\" class=\"data row1 col0\" >9</td>\n",
       "                        <td id=\"T_5cf34008_9b9a_11e9_8e62_48a472fb4d10row1_col1\" class=\"data row1 col1\" >$4.90</td>\n",
       "                        <td id=\"T_5cf34008_9b9a_11e9_8e62_48a472fb4d10row1_col2\" class=\"data row1 col2\" >$44.10</td>\n",
       "            </tr>\n",
       "            <tr>\n",
       "                        <th id=\"T_5cf34008_9b9a_11e9_8e62_48a472fb4d10level0_row2\" class=\"row_heading level0 row2\" >145</th>\n",
       "                        <th id=\"T_5cf34008_9b9a_11e9_8e62_48a472fb4d10level1_row2\" class=\"row_heading level1 row2\" >Fiery Glass Crusader</th>\n",
       "                        <td id=\"T_5cf34008_9b9a_11e9_8e62_48a472fb4d10row2_col0\" class=\"data row2 col0\" >9</td>\n",
       "                        <td id=\"T_5cf34008_9b9a_11e9_8e62_48a472fb4d10row2_col1\" class=\"data row2 col1\" >$4.58</td>\n",
       "                        <td id=\"T_5cf34008_9b9a_11e9_8e62_48a472fb4d10row2_col2\" class=\"data row2 col2\" >$41.22</td>\n",
       "            </tr>\n",
       "            <tr>\n",
       "                        <th id=\"T_5cf34008_9b9a_11e9_8e62_48a472fb4d10level0_row3\" class=\"row_heading level0 row3\" >92</th>\n",
       "                        <th id=\"T_5cf34008_9b9a_11e9_8e62_48a472fb4d10level1_row3\" class=\"row_heading level1 row3\" >Final Critic</th>\n",
       "                        <td id=\"T_5cf34008_9b9a_11e9_8e62_48a472fb4d10row3_col0\" class=\"data row3 col0\" >8</td>\n",
       "                        <td id=\"T_5cf34008_9b9a_11e9_8e62_48a472fb4d10row3_col1\" class=\"data row3 col1\" >$4.88</td>\n",
       "                        <td id=\"T_5cf34008_9b9a_11e9_8e62_48a472fb4d10row3_col2\" class=\"data row3 col2\" >$39.04</td>\n",
       "            </tr>\n",
       "            <tr>\n",
       "                        <th id=\"T_5cf34008_9b9a_11e9_8e62_48a472fb4d10level0_row4\" class=\"row_heading level0 row4\" >103</th>\n",
       "                        <th id=\"T_5cf34008_9b9a_11e9_8e62_48a472fb4d10level1_row4\" class=\"row_heading level1 row4\" >Singed Scalpel</th>\n",
       "                        <td id=\"T_5cf34008_9b9a_11e9_8e62_48a472fb4d10row4_col0\" class=\"data row4 col0\" >8</td>\n",
       "                        <td id=\"T_5cf34008_9b9a_11e9_8e62_48a472fb4d10row4_col1\" class=\"data row4 col1\" >$4.35</td>\n",
       "                        <td id=\"T_5cf34008_9b9a_11e9_8e62_48a472fb4d10row4_col2\" class=\"data row4 col2\" >$34.80</td>\n",
       "            </tr>\n",
       "    </tbody></table>"
      ],
      "text/plain": [
       "<pandas.io.formats.style.Styler at 0x153a7278160>"
      ]
     },
     "execution_count": 9,
     "metadata": {},
     "output_type": "execute_result"
    }
   ],
   "source": [
    "# Take the most_popular items data frame and change the sorting to find highest total purchase value\n",
    "popular_formatted = most_popular_items.sort_values([\"Total Purchase Value\"],\n",
    "                                                   ascending=False).head()\n",
    "# Format with currency style\n",
    "popular_formatted.style.format({\"Item Price\":\"${:,.2f}\",\n",
    "                                \"Total Purchase Value\":\"${:,.2f}\"})"
   ]
  },
  {
   "cell_type": "markdown",
   "metadata": {},
   "source": [
    "## Most Profitable Items"
   ]
  },
  {
   "cell_type": "markdown",
   "metadata": {},
   "source": [
    "* Sort the above table by total purchase value in descending order\n",
    "\n",
    "\n",
    "* Optional: give the displayed data cleaner formatting\n",
    "\n",
    "\n",
    "* Display a preview of the data frame\n",
    "\n"
   ]
  },
  {
   "cell_type": "code",
   "execution_count": null,
   "metadata": {
    "scrolled": true
   },
   "outputs": [],
   "source": []
  },
  {
   "cell_type": "code",
   "execution_count": null,
   "metadata": {},
   "outputs": [],
   "source": []
  }
 ],
 "metadata": {
  "anaconda-cloud": {},
  "kernel_info": {
   "name": "python3"
  },
  "kernelspec": {
   "display_name": "Python 3",
   "language": "python",
   "name": "python3"
  },
  "language_info": {
   "codemirror_mode": {
    "name": "ipython",
    "version": 3
   },
   "file_extension": ".py",
   "mimetype": "text/x-python",
   "name": "python",
   "nbconvert_exporter": "python",
   "pygments_lexer": "ipython3",
   "version": "3.7.3"
  },
  "nteract": {
   "version": "0.2.0"
  }
 },
 "nbformat": 4,
 "nbformat_minor": 2
}
